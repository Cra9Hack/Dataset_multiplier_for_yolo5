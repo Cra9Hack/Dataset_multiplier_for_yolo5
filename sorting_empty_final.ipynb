{
 "cells": [
  {
   "cell_type": "code",
   "execution_count": 3,
   "id": "118e7529-4cf7-46a1-9e22-7d7f5f949dab",
   "metadata": {},
   "outputs": [
    {
     "name": "stdout",
     "output_type": "stream",
     "text": [
      "/home/cra9hack/Dropbox/PyProj/insectRecognition/datasets/test4/final_test\n"
     ]
    }
   ],
   "source": [
    "import os\n",
    "import shutil\n",
    "import random\n",
    "\n",
    "present_dir=os.path.abspath(os.getcwd())\n",
    "print(present_dir)\n",
    "\n",
    "godpath = os.path.join(present_dir, \"goodpath\")\n",
    "\n",
    "if not os.path.exists(\"goodpath\"):\n",
    "    os.makedirs(\"goodpath\")\n",
    "\n",
    "full, empty = 2568, 0\n",
    "\"\"\"\n",
    "for file in os.listdir(os.getcwd()):\n",
    "    if file.endswith(\".txt\"):\n",
    "        f = open(file,\"r\")\n",
    "        if f.read(1): \n",
    "            full = full +1\n",
    "            shutil.move(os.path.join(present_dir,file), os.path.join(godpath,file))\n",
    "            shutil.move(os.path.join(present_dir,file[:-4]+\".jpg\"), os.path.join(godpath,file[:-4]+\".jpg\"))\n",
    "\n",
    "\"\"\"     \n",
    "legal_empty = int(0.1*full)\n",
    "while empty <= legal_empty:\n",
    "    for file in os.listdir(os.getcwd()):\n",
    "        if file.endswith(\".txt\"):\n",
    "            if random.randint(1, 10) == 1 and empty <= legal_empty:\n",
    "                shutil.move(os.path.join(present_dir,file), os.path.join(godpath,file))\n",
    "                shutil.move(os.path.join(present_dir,file[:-4]+\".jpg\"), os.path.join(godpath,file[:-4]+\".jpg\"))   \n",
    "                empty = empty + 1\n",
    "    \n"
   ]
  },
  {
   "cell_type": "code",
   "execution_count": null,
   "id": "6cb01f6f-4d0c-40d0-a58e-ef9332242c3d",
   "metadata": {},
   "outputs": [],
   "source": []
  }
 ],
 "metadata": {
  "kernelspec": {
   "display_name": "Python 3 (ipykernel)",
   "language": "python",
   "name": "python3"
  },
  "language_info": {
   "codemirror_mode": {
    "name": "ipython",
    "version": 3
   },
   "file_extension": ".py",
   "mimetype": "text/x-python",
   "name": "python",
   "nbconvert_exporter": "python",
   "pygments_lexer": "ipython3",
   "version": "3.10.6"
  }
 },
 "nbformat": 4,
 "nbformat_minor": 5
}
