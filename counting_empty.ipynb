{
 "cells": [
  {
   "cell_type": "code",
   "execution_count": 1,
   "id": "118e7529-4cf7-46a1-9e22-7d7f5f949dab",
   "metadata": {},
   "outputs": [
    {
     "name": "stdout",
     "output_type": "stream",
     "text": [
      "full 0\n",
      "empty 649\n"
     ]
    }
   ],
   "source": [
    "import os\n",
    "\n",
    "full, empty = 0, 0\n",
    "for file in os.listdir(os.getcwd()):\n",
    "    if file.endswith(\".txt\"):\n",
    "        f = open(file,\"r\")\n",
    "        if f.read(1): full=full+1\n",
    "        else: empty = empty + 1 \n",
    "print(\"full\", full)\n",
    "print(\"empty\", empty)"
   ]
  },
  {
   "cell_type": "code",
   "execution_count": null,
   "id": "6cb01f6f-4d0c-40d0-a58e-ef9332242c3d",
   "metadata": {},
   "outputs": [],
   "source": []
  }
 ],
 "metadata": {
  "kernelspec": {
   "display_name": "Python 3 (ipykernel)",
   "language": "python",
   "name": "python3"
  },
  "language_info": {
   "codemirror_mode": {
    "name": "ipython",
    "version": 3
   },
   "file_extension": ".py",
   "mimetype": "text/x-python",
   "name": "python",
   "nbconvert_exporter": "python",
   "pygments_lexer": "ipython3",
   "version": "3.10.6"
  }
 },
 "nbformat": 4,
 "nbformat_minor": 5
}
